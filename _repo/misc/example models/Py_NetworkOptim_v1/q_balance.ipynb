{
 "cells": [
  {
   "cell_type": "code",
   "execution_count": 38,
   "metadata": {},
   "outputs": [],
   "source": [
    "import casadi as ca\n",
    "\n",
    "import numpy as np\n",
    "\n",
    "import pandas as pd"
   ]
  },
  {
   "cell_type": "code",
   "execution_count": 39,
   "metadata": {},
   "outputs": [],
   "source": [
    "from dataclasses import dataclass"
   ]
  },
  {
   "cell_type": "code",
   "execution_count": 68,
   "metadata": {},
   "outputs": [],
   "source": [
    "class Node:\n",
    "    def __init__(self, id, type, weight, demand):\n",
    "        self.id = id\n",
    "        self.type = type\n",
    "        self.weight = weight\n",
    "        \n",
    "        self.bounds = None\n",
    "        self.objective = 0.0\n",
    "        self.q_control = None\n",
    "        self.q_balance = []\n",
    "        self.demand = demand\n",
    "\n",
    "        # Negative flow is into the node, positive is out of the node\n",
    "        if demand < 0:\n",
    "            raise ValueError(f\"Demand of node {id} is negative. Flow rate should always be positive\")\n",
    "        \n",
    "        if type == 'none' and not demand == 0:\n",
    "            raise ValueError(f\"Demand of node {id} should be zero as it is of type 'none'\")           \n",
    "\n",
    "        if demand > 0:\n",
    "            self.q_control = ca.SX.sym(f\"node_{id}_control\")\n",
    "\n",
    "            if type == 'supply':\n",
    "                self.bounds = (-demand, 0.0)\n",
    "            elif type == 'demand':\n",
    "                self.bounds = (0.0, demand)\n",
    "                self.objective = demand - self.q_control\n",
    "            \n",
    "            self.q_balance.append(self.q_control)\n",
    "\n",
    "class Pipe:\n",
    "    # Positive flow is into the pipe, negative is out of the pipe\n",
    "\n",
    "    id: str\n",
    "    start: int\n",
    "    end: int\n",
    "    length: float\n",
    "    diameter: float\n",
    "        \n",
    "    def __init__(self, id, start, end, length, diameter):\n",
    "        self.id = id\n",
    "        self.start = start\n",
    "        self.end = end\n",
    "        self.length = length\n",
    "        self.diameter = diameter\n",
    "        \n",
    "        self.q_start = ca.SX.sym(f\"pipe_{id}_start\")\n",
    "        self.q_end = ca.SX.sym(f\"pipe_{id}_end\")"
   ]
  },
  {
   "cell_type": "code",
   "execution_count": 69,
   "metadata": {},
   "outputs": [],
   "source": [
    "nodes = {}\n",
    "\n",
    "for k, v in pd.read_csv('nodes.csv', sep='\\t', index_col=0).to_dict('index').items():\n",
    "    nodes[k] = Node(k, **v)"
   ]
  },
  {
   "cell_type": "code",
   "execution_count": 70,
   "metadata": {},
   "outputs": [],
   "source": [
    "pipes = {}\n",
    "\n",
    "for k, v in pd.read_csv('pipes.csv', sep='\\t', index_col=0).to_dict('index').items():\n",
    "    pipes[k] = Pipe(k, **v)"
   ]
  },
  {
   "cell_type": "code",
   "execution_count": 71,
   "metadata": {},
   "outputs": [],
   "source": [
    "# Convention is that positive is into a branch and negative is out of a branch\n",
    "# For nodes, that means that their demand has to be signed accordingly (as if a branch was attached)\n",
    "equations = []\n",
    "\n",
    "node_balance = {n: 0 for n in nodes}\n",
    "\n",
    "for p in pipes.values():   \n",
    "    equations.append(p.q_start + p.q_end)\n",
    "    \n",
    "    nodes[p.start].q_balance.append(p.q_start)\n",
    "    nodes[p.end].q_balance.append(p.q_end)   \n",
    "    \n",
    "for n in nodes.values():\n",
    "    equations.append(sum(n.q_balance))"
   ]
  },
  {
   "cell_type": "code",
   "execution_count": 72,
   "metadata": {},
   "outputs": [],
   "source": [
    "# Build the state vector with the appropriate bounds\n",
    "x = []\n",
    "lbx = []\n",
    "ubx = []\n",
    "\n",
    "for n in nodes.values():\n",
    "    if n.q_control is not None:\n",
    "        x.append(n.q_control)\n",
    "        lb, ub = n.bounds\n",
    "        lbx.append(lb)\n",
    "        ubx.append(ub)\n",
    "\n",
    "for p in pipes.values():\n",
    "    x.append(p.q_start)\n",
    "    lbx.append(-np.inf)\n",
    "    ubx.append(np.inf)\n",
    "    \n",
    "    x.append(p.q_end)\n",
    "    lbx.append(-np.inf)\n",
    "    ubx.append(np.inf)"
   ]
  },
  {
   "cell_type": "code",
   "execution_count": 103,
   "metadata": {},
   "outputs": [],
   "source": [
    "# Build the constraints\n",
    "g = equations\n",
    "lbg = [0.0] * len(g)\n",
    "ubg = lbg.copy()\n",
    "\n",
    "# Build the objective\n",
    "f = 0.0\n",
    "for n in nodes.values():\n",
    "    f += n.objective**2"
   ]
  },
  {
   "cell_type": "code",
   "execution_count": 104,
   "metadata": {},
   "outputs": [],
   "source": [
    "# Construct the qp, and solver\n",
    "qp = {'f': f, 'g': ca.vertcat(*g), 'x': ca.vertcat(*x)}\n",
    "\n",
    "solver = ca.qpsol('qp', 'cplex', qp, {})"
   ]
  },
  {
   "cell_type": "code",
   "execution_count": 105,
   "metadata": {},
   "outputs": [],
   "source": [
    "results = solver(lbx=lbx, ubx=ubx, lbg=lbg, ubg=ubg)"
   ]
  },
  {
   "cell_type": "code",
   "execution_count": 112,
   "metadata": {},
   "outputs": [
    {
     "name": "stdout",
     "output_type": "stream",
     "text": [
      "Node 1 demand 25 16.6667\n",
      "Node 4 demand 25 16.6667\n",
      "Node 5 demand 25 16.6667\n",
      "Node 6 supply 25 -25\n",
      "Node 10 demand 25 16.6667\n",
      "Node 12 supply 25 -25\n",
      "Node 13 demand 25 16.6667\n",
      "Node 16 supply 25 -25\n",
      "Node 18 supply 25 -25\n",
      "Node 20 demand 25 16.6667\n",
      "\n",
      "Total shortage 50\n",
      "Max shortage 8.33333\n"
     ]
    }
   ],
   "source": [
    "total_shortage = 0\n",
    "max_shortage = 0\n",
    "\n",
    "i = 0\n",
    "for n in nodes.values():\n",
    "    if n.q_control is not None:\n",
    "        print(\"Node\", n.id, n.type, n.demand, results['x'][i])\n",
    "        \n",
    "        if n.type == 'demand':\n",
    "            short = n.demand - results['x'][i]\n",
    "            total_shortage += short\n",
    "            max_shortage = max(max_shortage, short)\n",
    "\n",
    "        i += 1\n",
    "\n",
    "print()\n",
    "print(\"Total shortage\", total_shortage)\n",
    "print(\"Max shortage\", max_shortage)"
   ]
  },
  {
   "cell_type": "code",
   "execution_count": null,
   "metadata": {},
   "outputs": [],
   "source": []
  }
 ],
 "metadata": {
  "kernelspec": {
   "display_name": "Python 3",
   "language": "python",
   "name": "python3"
  },
  "language_info": {
   "codemirror_mode": {
    "name": "ipython",
    "version": 3
   },
   "file_extension": ".py",
   "mimetype": "text/x-python",
   "name": "python",
   "nbconvert_exporter": "python",
   "pygments_lexer": "ipython3",
   "version": "3.7.4"
  }
 },
 "nbformat": 4,
 "nbformat_minor": 4
}
